{
  "nbformat": 4,
  "nbformat_minor": 0,
  "metadata": {
    "colab": {
      "provenance": [],
      "authorship_tag": "ABX9TyNINppmS9ibU7Bs+h7Msl4i",
      "include_colab_link": true
    },
    "kernelspec": {
      "name": "python3",
      "display_name": "Python 3"
    },
    "language_info": {
      "name": "python"
    }
  },
  "cells": [
    {
      "cell_type": "markdown",
      "metadata": {
        "id": "view-in-github",
        "colab_type": "text"
      },
      "source": [
        "<a href=\"https://colab.research.google.com/github/LaurensSluyterman/Geneeskunde-loter/blob/main/Geneeskunde_loter_v2.ipynb\" target=\"_parent\"><img src=\"https://colab.research.google.com/assets/colab-badge.svg\" alt=\"Open In Colab\"/></a>"
      ]
    },
    {
      "cell_type": "markdown",
      "source": [
        "# Geneeskunde verdeler\n",
        "\n",
        "Voer de volgende stappen uit:\n",
        "\n",
        "upload het voorkeuren.csv bestand (het moet zo heten!) naar de sample_data map. Belangrijk is dat de 1e rij Naam, Voorkeur1, Voorkeur2,Voorkeur3, Voorkeur4, Voorkeur5 is! Je kan de namen anonimiseren als je wilt. Een input bestand ziet er dus zo uit:\n",
        "\n",
        "Naam,Voorkeur1,Voorkeur2,Voorkeur3,Voorkeur4,Voorkeur5\n",
        "\n",
        "Stefan, 1, 4, 2, 9, 3\n",
        "\n",
        "Dayenne, 4, 8, 1, 21, 23\n",
        "\n",
        "etc.\n",
        "\n",
        "Run nu de code (het driehoekje in het vakje hieronder). Er worden 3 verschillende verdelingen gemaakt. De code probeert lagere voorkeuren in toenemende mate te vermijden. Verdeling 2 zal dus over het algemeen minder mensen een lagere voorkeur geven (maar dus ook minder mensen hun eerste voorkeur om dat te bewerkstelligen).\n",
        "\n",
        "\n",
        "Voor vragen kan je mailen naar Laurens.Sluyterman at hotmail.com"
      ],
      "metadata": {
        "id": "acyaKgVhLlsu"
      }
    },
    {
      "cell_type": "code",
      "execution_count": null,
      "metadata": {
        "id": "lcpgXPXYLeDo",
        "colab": {
          "base_uri": "https://localhost:8080/"
        },
        "outputId": "a26e27d3-29c4-47f8-be31-b99f78499d97"
      },
      "outputs": [
        {
          "output_type": "stream",
          "name": "stdout",
          "text": [
            "Hoeveel verschillende plekken zijn er?50\n",
            "Verdeling compleet, opgeslagen in het plaatsingen_-1.txt bestand\n",
            "Verdeling 1:\n",
            "1e voorkeur --- 15.0 x \n",
            "\n",
            "2e voorkeur --- 8.0 x \n",
            "\n",
            "3e voorkeur --- 1.0 x \n",
            "\n",
            "4e voorkeur --- 3.0 x \n",
            "\n",
            "5e voorkeur --- 2.0 x \n",
            "\n",
            "Buiten voorkeuren --- 0.0 x \n",
            "\n",
            "Verdeling compleet, opgeslagen in het plaatsingen_0.txt bestand\n",
            "Verdeling 2:\n",
            "1e voorkeur --- 13.0 x \n",
            "\n",
            "2e voorkeur --- 9.0 x \n",
            "\n",
            "3e voorkeur --- 4.0 x \n",
            "\n",
            "4e voorkeur --- 2.0 x \n",
            "\n",
            "5e voorkeur --- 1.0 x \n",
            "\n",
            "Buiten voorkeuren --- 0.0 x \n",
            "\n",
            "Verdeling compleet, opgeslagen in het plaatsingen_1.txt bestand\n",
            "Verdeling 3:\n",
            "1e voorkeur --- 11.0 x \n",
            "\n",
            "2e voorkeur --- 7.0 x \n",
            "\n",
            "3e voorkeur --- 5.0 x \n",
            "\n",
            "4e voorkeur --- 6.0 x \n",
            "\n",
            "5e voorkeur --- 0.0 x \n",
            "\n",
            "Buiten voorkeuren --- 0.0 x \n",
            "\n"
          ]
        }
      ],
      "source": [
        "#@title <-- klik hier { display-mode: \"form\" }\n",
        "\"\"\"Author: Laurens Sluijterman\"\"\"\n",
        "import numpy as np\n",
        "import pandas as pd\n",
        "from scipy.optimize import linear_sum_assignment\n",
        "from datetime import date\n",
        "\n",
        "data_directory = 'sample_data'\n",
        "data_file_path = data_directory + \"/voorkeuren.csv\"\n",
        "data = pd.read_csv(data_file_path)\n",
        "data = data.sample(frac=1) # Reorder the data to avoid any possible advantage\n",
        "number_of_students = len(data)\n",
        "names = data.to_numpy()[:, 0]\n",
        "preferences = data.drop(columns=\"Naam\")\n",
        "number_of_positions = int(input(\"Hoeveel verschillende plekken zijn er?\"))\n",
        "number_of_preferences = np.shape(preferences)[1]\n",
        "\n",
        "# Waarschuwingen als er iets niet klopt aan de input\n",
        "for i, preference in enumerate(preferences.to_numpy()):\n",
        "    if len(np.unique(preference, return_counts=True)[1]) != len(preference):\n",
        "        raise ImportWarning(f\"{names[i]} heeft een dubbele voorkeur opgegeven\")\n",
        "    if preference.max() > number_of_positions:\n",
        "        raise ImportWarning(f\"{names[i]} heeft een niet bestaande voorkeuren opgegeven\")\n",
        "    if preference.min() < 1:\n",
        "        raise ImportWarning(f\"{names[i]} heeft een niet bestaande voorkeuren opgegeven\")\n",
        "\n",
        "if number_of_students > number_of_positions:\n",
        "    raise ImportWarning(f\"Er zijn meer studenten dan plaatsen\")\n",
        "\n",
        "\n",
        "cost_arrays = np.zeros((3, number_of_preferences))\n",
        "cost_arrays[0] = [i for i in range(number_of_preferences)] #Linear cost\n",
        "cost_arrays[1] = [i**2 for i in range(number_of_preferences)] #quadratic cost\n",
        "cost_arrays[2] = [10**(i) for i in range(number_of_preferences)] #exponential cost\n",
        "for k in range(0, 3):\n",
        "    standard_cost_array = cost_arrays[k]\n",
        "    cost_factor_no_preference = 10 * standard_cost_array[-1] # Ook subjectief, bepaalt hoe erg je een plek buiten je voorkeur vindt.\n",
        "\n",
        "    cost_matrix = np.ones((number_of_students, number_of_positions)) * cost_factor_no_preference\n",
        "    for i in range(number_of_students):\n",
        "        for j in range(number_of_preferences):\n",
        "            j_th_preference = preferences.to_numpy()[i][j] - 1  # Correct for counting at 1 in preference file\n",
        "            cost_matrix[i, j_th_preference] = standard_cost_array[j]\n",
        "\n",
        "    # Deze functie zorgt voor de daadwerkelijke toewijzing.\n",
        "    student_numbers, student_assignments = linear_sum_assignment(cost_matrix)\n",
        "    student_assignments += 1  # convert to regular counting (python starts at 0)\n",
        "\n",
        "    print(f'Verdeling compleet, opgeslagen in het plaatsingen_{k+1}.txt bestand')\n",
        "    # Dit gedeelte schrijft de resultaten naar een .txt file\n",
        "    with open(data_directory + f\"/plaatsingen_{k+1}.txt\", \"w\") as myfile:\n",
        "        myfile.write(\"Plaatsing gemaakt op \" + str(date.today()) + \"\\n\")\n",
        "        myfile.write(f\"Penalty waarden: {standard_cost_array} \\n\")\n",
        "        remaining_positions = [i for i in range(1, number_of_positions + 1)]\n",
        "        preference_count = np.zeros((number_of_preferences + 1))\n",
        "        for i, preference in enumerate(preferences.to_numpy()):\n",
        "            assignment = student_assignments[i]\n",
        "            remaining_positions.remove(assignment)\n",
        "            if assignment in preference:\n",
        "                preference_number = np.where(preference == assignment)[0][0] + 1\n",
        "                preference_count[preference_number-1] += 1\n",
        "                myfile.write(f\"{names[i]} --- {assignment} ({preference_number}e voorkeur)\\n\")\n",
        "            else:\n",
        "                myfile.write(f\"{names[i]} --- {student_assignments[i]} (buiten voorkeuren) \\n\")\n",
        "                preference_count[-1] += 1\n",
        "        myfile.write(f\"Overgebleven plaatsen: {remaining_positions} \\n\")\n",
        "        print(f'Verdeling {k+1}:')\n",
        "        for l, count in enumerate(preference_count):\n",
        "            if l+1 <= number_of_preferences:\n",
        "                myfile.write(f\"{l+1}e voorkeur --- {count} x \\n\")\n",
        "                print(f\"{l+1}e voorkeur --- {count} x \\n\")\n",
        "            else:\n",
        "                myfile.write(f\"Buiten voorkeuren --- {count} x \\n\")\n",
        "                print(f\"Buiten voorkeuren --- {count} x \\n\")\n"
      ]
    }
  ]
}